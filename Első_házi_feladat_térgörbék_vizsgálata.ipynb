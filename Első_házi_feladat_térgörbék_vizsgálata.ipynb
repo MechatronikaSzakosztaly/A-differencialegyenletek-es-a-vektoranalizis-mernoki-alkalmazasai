{
  "nbformat": 4,
  "nbformat_minor": 0,
  "metadata": {
    "colab": {
      "name": "Copy of Első házi feladat: térgörbék vizsgálata.ipynb",
      "version": "0.3.2",
      "provenance": []
    },
    "kernelspec": {
      "name": "python3",
      "display_name": "Python 3"
    }
  },
  "cells": [
    {
      "cell_type": "markdown",
      "metadata": {
        "id": "Hmc9GjtTotOz",
        "colab_type": "text"
      },
      "source": [
        "# Első házi: Görbék vizsgálata python3-ban\n",
        "\n",
        "## Adminisztratív tudnivalók\n",
        "\n",
        "## A feladat maga\n",
        "\n",
        "Ezen a linken találtok 4 csv fájlt, ami 4 Intel RealSense kamerával felvett útgörbe adatait tartalmazza. A feladatotok az, hogy egy kapott kódrészlet segítségével beolvassátok az egyik görbét (rajtatok múlik, hogy melyiket, amelyikhez kedvetek van), megvizsgáljátok a sebességét és a gyorsulását, majd a kapott értékeket összevessétek a mért értékekkel.\n",
        "\n",
        "### Részletesen\n",
        "\n",
        "- Nulladik feladat: írjatok egy függvényt, ami összeadja a NEPTUN kódotokban szereplő számokat és betűket úgy, hogy a számok összeaddot értékéhez hozzáadja a betűk pozícióját az ASCII táblában az ord() függvénnyel. Futtassátok a függvényt a saját neptunotokkal, majd vegyétek az eredmény ötös maradékát.\n",
        "\n",
        "\n",
        "- Nyissátok meg a mellékelt kódot, és válasszátok ki, hogy melyik .csv fájllal fogtok dolgozni - az előbbi függvény segítségével: az ötös maradék megadja, hogy melyik számút olvassátok be.\n",
        "\n",
        "- Futtassátok le a kódot, így beolvasva a függvényt és ráillesztve egy B-splinet - ne aggódjatok, ha hosszú a futás, Bence csodája is gondolkozott rajta.\n",
        "\n",
        "- Számítsátok ki a görbe sebességét és gyorsulását minden mért időpillanatban.\n",
        "\n",
        "- Ábrázoljátok idő szerint paraméterezve a sebesség és a gyorsulás komponenseit $x,y,z$ irányban.\n",
        "\n",
        "- A kamerából beolvasott gyorsulás- és sebességértékvektorokat vessétek össze a számított vektorokkal úgy, ábrázoljátok őket egymás mellett. Ezt a függvényt rajzoljátok ki a gyorsulás- és a sebességértékekre is. Mikor voltunk pontosak és mikor pontatlanok? Fejtsétek ki röviden, hogy szerintetek miért.\n",
        "\n",
        "- A mozgásokat a Kármán 8. emeletén vettük fel úgy, hogy mászkálás közben végig a kezünkben tartottuk a tarcking kamerát. Mit gondoltok, hogy járkáltunk a mérés alatt az adatok alapján? Ha a 4.csv-vel elakadtok, ez a [link](https://www.youtube.com/watch?v=NHo71o8-q3w) segít. Írjátok le röviden, hogy a kamerának valószínűleg merre állhatnak az $ (x, y, z) $ tengelyei, és miért.\n",
        "\n",
        "## Adminisztratív tudnivalók\n",
        "\n",
        "- A feladatokat ezen a [formon](https://forms.gle/tZEpbn8ejJUddpLo7) töltsétek fel szeptember 29.-e vasárnap éjfélig, lefuttatott cellákkal, .ipynb (notebook) formátumban.\n",
        "- Csak teljes, minden kérdésre kitérő házikat tudunk elfogandi: fél házi != fele pont.\n",
        "- A kapható maximális pontszám 20 a félévi 100-ból."
      ]
    },
    {
      "cell_type": "code",
      "metadata": {
        "id": "P-eXcTzWok5z",
        "colab_type": "code",
        "colab": {}
      },
      "source": [
        "\n",
        "# A használható kód:\n",
        "\n",
        "from geomdl import fitting\n",
        "from geomdl.visualization import VisMPL as vis\n",
        "import pandas as pd\n",
        "\n",
        "\n",
        "# Read data \n",
        "df = pd.read_csv('1.csv')\n",
        "\n",
        "# df.X.plot()\n",
        "# df.Y.plot()\n",
        "# df.Z.plot()\n",
        "# df.t.plot()\n",
        "\n",
        "\n",
        "# Transform the data -> every 10th point\n",
        "points = []\n",
        "for i in range(0,len(df['X']),10):\n",
        "    points.append((df['X'][i],df['Y'][i],df['Z'][i]))\n",
        "    \n",
        "# curve fitting\n",
        "curve = fitting.interpolate_curve(points, degree=3)\n",
        "\n",
        "# Plot the interpolated curve \n",
        "curve.delta = 0.005 \n",
        "curve.vis = vis.VisCurve3D(vis.VisConfig(ctrlpts=True))\n",
        "curve.render()\n"
      ],
      "execution_count": 0,
      "outputs": []
    },
    {
      "cell_type": "code",
      "metadata": {
        "id": "fPh3ID1qUX9W",
        "colab_type": "code",
        "colab": {}
      },
      "source": [
        ""
      ],
      "execution_count": 0,
      "outputs": []
    }
  ]
}