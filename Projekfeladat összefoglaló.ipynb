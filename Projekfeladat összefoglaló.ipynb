{
 "cells": [
  {
   "cell_type": "markdown",
   "metadata": {},
   "source": [
    "![](https://driverless.global/images/Udacity-Car-enroll.png)\n",
    "\n",
    "\n",
    "# Önvezető autó házi feladat összefoglaló\n",
    "\n",
    "A projektfeladat célja egy számítógép által szimulált környezetben navigáló önvezető autó készítése. Nincs megkötve a kezetek: bármit használhattok, ami tetszik: neurális hálóval, opencv-vel is feldolgozhatjátok a képet, ami kényelmesebb. A munkátokat megkönnyítendő ajánljuk nektek az Udacity által készített szimulációs környezetet (ezzel viszonylag gagyi hardveren is 10 körüli fps-em volt), de akár GTA-zhattok is vele, mint [Sentdex](https://www.youtube.com/watch?v=CLFp9D9-0Eo).\n",
    "\n",
    "## A Udacity szimulátor használata\n",
    "\n",
    "Ha az udemy-s szimulátort szeretnétek használni, töltsétek le a legszimpatikusabb lebuildelt verziót a [githubjukról](https://github.com/udacity/self-driving-car-sim), bontsátok ki, majd indítsátok el a .exe-t. Válasszátok a \"training mode\" opciót, és innentől már vezetthettek is! Érdemes kis képméretet és alacsony felbontást választani, ha valami nagyon krumplin szeretnétek futni.\n",
    "\n",
    "## Segítségek\n",
    "\n",
    "Pár szkripttel segítségetekre leszünk, hogy könnyebben induljon a vezetés: megoldottuk nektek előre, hogy mindig el tudjátok kapni a képernyőképet numpy array-ként a képfeldolgozáshoz, ezt a [screenCapture.py](https://github.com/MechatronikaSzakosztaly/A-differencialegyenletek-es-a-vektoranalizis-mernoki-alkalmazasai/blob/master/screenCapture.py) fájlban szedtük össze. A billentyők nyomkodása serm fog gondot okozni: ezt egy szuper kis [könytárral](https://github.com/MechatronikaSzakosztaly/A-differencialegyenletek-es-a-vektoranalizis-mernoki-alkalmazasai/blob/master/pressKeys.py), amit természetesen a [StackOverflow-ról nyúltunk](http://stackoverflow.com/questions/14489013/simulate-python-keypresses-for-controlling-a-game). Sok sikert mindenkinek!\n",
    "\n",
    "![](https://ichef.bbci.co.uk/images/ic/720x405/p062pdyl.jpg)"
   ]
  },
  {
   "cell_type": "code",
   "execution_count": null,
   "metadata": {},
   "outputs": [],
   "source": []
  }
 ],
 "metadata": {
  "kernelspec": {
   "display_name": "Python 3",
   "language": "python",
   "name": "python3"
  },
  "language_info": {
   "codemirror_mode": {
    "name": "ipython",
    "version": 3
   },
   "file_extension": ".py",
   "mimetype": "text/x-python",
   "name": "python",
   "nbconvert_exporter": "python",
   "pygments_lexer": "ipython3",
   "version": "3.7.3"
  }
 },
 "nbformat": 4,
 "nbformat_minor": 2
}
